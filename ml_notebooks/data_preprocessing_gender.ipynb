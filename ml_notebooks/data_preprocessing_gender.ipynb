{
 "cells": [
  {
   "cell_type": "code",
   "execution_count": null,
   "id": "cab43cd3",
   "metadata": {},
   "outputs": [],
   "source": [
    "import numpy as np\n",
    "import cv2\n",
    "import pandas as pd\n",
    "import os\n",
    "import pickle"
   ]
  },
  {
   "cell_type": "markdown",
   "id": "fac44083",
   "metadata": {},
   "source": [
    "# Face Detector"
   ]
  },
  {
   "cell_type": "code",
   "execution_count": null,
   "id": "8c2ccb3d",
   "metadata": {},
   "outputs": [],
   "source": [
    "# Loading all the face detection and descriptor models\n",
    "face_detection_model = './models/res10_300x300_ssd_iter_140000_fp16.caffemodel'\n",
    "face_detection_proto = './models/deploy.prototxt.txt'\n",
    "face_descriptor = './models/openface.nn4.small2.v1.t7'\n",
    "\n",
    "# Loading deep neural network models\n",
    "detector_model = cv2.dnn.readNetFromCaffe(face_detection_proto,face_detection_model)\n",
    "descriptor_model = cv2.dnn.readNetFromTorch(face_descriptor)"
   ]
  },
  {
   "cell_type": "code",
   "execution_count": null,
   "id": "0dd9bbb8",
   "metadata": {},
   "outputs": [],
   "source": [
    "!dir gender_data"
   ]
  },
  {
   "cell_type": "code",
   "execution_count": null,
   "id": "04f78363",
   "metadata": {},
   "outputs": [],
   "source": [
    "# Showcasing sample image\n",
    "img = cv2.imread('./gender_data/Female/131422.jpg.jpg')\n",
    "cv2.imshow('sample',img)\n",
    "cv2.waitKey(0)\n",
    "cv2.destroyAllWindows()"
   ]
  },
  {
   "cell_type": "code",
   "execution_count": null,
   "id": "beb18a94",
   "metadata": {},
   "outputs": [],
   "source": [
    "def face_helper(image_path):\n",
    "    img = cv2.imread(image_path)\n",
    "    # Detect face image\n",
    "    image = img.copy()\n",
    "    h,w = image.shape[:2]\n",
    "    img_blob = cv2.dnn.blobFromImage(image,1,(300,300), (104,177,123), swapRB = False, crop = False)\n",
    "\n",
    "    # Set image to the model\n",
    "    detector_model.setInput(img_blob)\n",
    "    detections = detector_model.forward()\n",
    "\n",
    "    if len(detections) > 0:\n",
    "        i = np.argmax(detections[0,0,:,2]) # Considering face with max confidence score\n",
    "        confidence = detections[0,0,i,2]\n",
    "\n",
    "        if confidence > 0.5:\n",
    "            box = detections[0,0,i,3:7] * np.array([w,h,w,h])\n",
    "            (startx,starty,endx,endy) = box.astype('int')\n",
    "\n",
    "            # Extracting face's features\n",
    "            roi = image[starty:endy,startx:endx].copy()\n",
    "\n",
    "            # Get the face's descriptors\n",
    "            faceblob = cv2.dnn.blobFromImage(roi,1/255,(96,96), (0,0,0), swapRB = True, crop = True)\n",
    "            descriptor_model.setInput(faceblob)\n",
    "            vectors = descriptor_model.forward()            \n",
    "            return vectors\n",
    "    return None"
   ]
  },
  {
   "cell_type": "markdown",
   "id": "061a6218",
   "metadata": {},
   "source": [
    "# Getting Face Descriptors"
   ]
  },
  {
   "cell_type": "code",
   "execution_count": null,
   "id": "c30f7ee0",
   "metadata": {},
   "outputs": [],
   "source": [
    "data = dict(data=[],label=[])"
   ]
  },
  {
   "cell_type": "code",
   "execution_count": null,
   "id": "923d99b1",
   "metadata": {
    "code_folding": []
   },
   "outputs": [],
   "source": [
    "folders = os.listdir('gender_data')\n",
    "for folder in folders:\n",
    "    filenames = os.listdir('gender_data/{}'.format(folder))\n",
    "    for filename in filenames:\n",
    "        try:\n",
    "            vector = face_helper('./gender_data/{}/{}'.format(folder,filename))\n",
    "            if vector is not None:\n",
    "                data['data'].append(vector)\n",
    "                data['label'].append(folder)\n",
    "                print('Feature Extracted Successfully')\n",
    "        except:\n",
    "            pass "
   ]
  },
  {
   "cell_type": "code",
   "execution_count": null,
   "id": "bae82f7e",
   "metadata": {},
   "outputs": [],
   "source": [
    "data.keys()"
   ]
  },
  {
   "cell_type": "code",
   "execution_count": null,
   "id": "9e7b2ab8",
   "metadata": {},
   "outputs": [],
   "source": [
    "pd.Series(data['label']).value_counts()"
   ]
  },
  {
   "cell_type": "code",
   "execution_count": null,
   "id": "2b3c2134",
   "metadata": {},
   "outputs": [],
   "source": [
    "# Save all the data\n",
    "pickle.dump(data,open('face_gender_classifier.pickle', mode='wb'))"
   ]
  }
 ],
 "metadata": {
  "kernelspec": {
   "display_name": "Python 3 (ipykernel)",
   "language": "python",
   "name": "python3"
  },
  "language_info": {
   "codemirror_mode": {
    "name": "ipython",
    "version": 3
   },
   "file_extension": ".py",
   "mimetype": "text/x-python",
   "name": "python",
   "nbconvert_exporter": "python",
   "pygments_lexer": "ipython3",
   "version": "3.11.5"
  }
 },
 "nbformat": 4,
 "nbformat_minor": 5
}
